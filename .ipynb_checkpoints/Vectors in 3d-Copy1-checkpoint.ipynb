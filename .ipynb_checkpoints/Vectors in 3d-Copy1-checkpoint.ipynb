{
 "cells": [
  {
   "cell_type": "markdown",
   "metadata": {
    "cell_style": "center"
   },
   "source": [
    "# VECTORS IN 3D"
   ]
  },
  {
   "cell_type": "markdown",
   "metadata": {},
   "source": [
    "## Introduction to vectors\n",
    "\n",
    "### Task 1:\n",
    "\n",
    "Here is a quadrilateral made up of vertices $ABCD$. How can you show that the point $E$ lies on the line segment joining $A$ and $C$?\n",
    "\n",
    "\n",
    "### Task 2:\n",
    "\n",
    "Here is a $3D$ shape made up of vertices $ABCDEFGH$. How can you show that the point $I$ lies on the line segment joining $A$ to $G$?\n",
    "\n",
    "### The length of a vector in $2D$ and $3D$.\n",
    "\n",
    "What is the length of a $2D$ vector? "
   ]
  },
  {
   "cell_type": "markdown",
   "metadata": {},
   "source": [
    "![2d](./Length of 2D vector.JPG)"
   ]
  },
  {
   "cell_type": "markdown",
   "metadata": {},
   "source": [
    "What about the length of a $3D$ vector?"
   ]
  },
  {
   "cell_type": "markdown",
   "metadata": {},
   "source": [
    "![3d](./Length of 3D vector.JPG)"
   ]
  },
  {
   "cell_type": "markdown",
   "metadata": {},
   "source": [
    "## The scalar product of two vectors\n",
    "\n",
    "Here are two vectors. They are separated by an angle  $\\theta$. We define their **scalar product** as:\n",
    "\n",
    "$$\\vec{v}.\\vec{u}=v.u\\cos{\\theta}$$"
   ]
  },
  {
   "cell_type": "markdown",
   "metadata": {},
   "source": [
    "### Resolved components of vectors\n",
    "\n"
   ]
  },
  {
   "cell_type": "code",
   "execution_count": null,
   "metadata": {},
   "outputs": [],
   "source": []
  },
  {
   "cell_type": "markdown",
   "metadata": {},
   "source": [
    "### Two different forms of the scalar product\n",
    "\n",
    "### Task 3:\n",
    "\n",
    "Use the cosine rule to find another expression for the scalar product."
   ]
  },
  {
   "cell_type": "markdown",
   "metadata": {},
   "source": [
    "### Geometric meaning of the scalar product\n",
    "\n",
    "### Consequences of the scalar product\n",
    "\n",
    "1. How can you tell if two vectors are perpendicular?\n",
    "2. How can you tell if two vectors are parallel or contra-parallel?\n",
    "\n",
    "### What is the scalar product useful for? \n",
    "\n",
    "### Task 4: \n",
    "Use the scalar product to show the product of the gradients of two perpendicular lines in $2D$ is always $-1$."
   ]
  },
  {
   "cell_type": "markdown",
   "metadata": {},
   "source": [
    "## Equations of lines\n",
    "\n",
    "How do work out the equation of a line in $2D$?\n",
    "\n",
    "There are several ways to do this... Point and direction ... $y=mx+c$. How can we write this in vector form?\n",
    "\n",
    "$$\\vec{r}= \\vec{a}+ k\\vec{b}$$\n",
    "\n",
    "where $\\vec{r}$, $\\vec{a}$ and $\\vec{b}$ are vectors, and $k$ is a scalar. Vectors $\\vec{a}$ and $\\vec{b}$ are fixed; $\\vec{r}$ changes because $k$ can take any real value.\n",
    "\n",
    "To express the equation of a line in $3D$, we also need a point on the line and a direction vector.\n",
    "\n",
    "Example of a vector equation of line in $3D$\n",
    "\n",
    "### Task 5:\n",
    "\n",
    "Can you write the $3D$ equation for a line in terms of coordinates $x$ and $y$?\n"
   ]
  },
  {
   "cell_type": "markdown",
   "metadata": {},
   "source": [
    "## Equations of planes\n",
    "\n",
    "There are three ways of finding the vector equation of plane."
   ]
  },
  {
   "cell_type": "markdown",
   "metadata": {},
   "source": [
    "### A point on the plane and a vector \n",
    "\n",
    "Let's go back to our vector equation of a line. Call this $L$. This means:\n",
    "\n",
    "$$L: \\vec{r}= \\begin{pmatrix}\n",
    "  1 \\\\\n",
    "  2 \\\\\n",
    "  0\n",
    " \\end{pmatrix} + k\n",
    " \\begin{pmatrix}\n",
    "  2 \\\\\n",
    "  -4 \\\\\n",
    "  1\n",
    " \\end{pmatrix}$$\n",
    "\n",
    "Can you work out the equation of a line through point $A$ that is perpendicular to $L$? Is this the only line through A that is perpendicular to $L$?\n",
    "Can you derive a general equation that describes *all* the lines through $A$ that are perpendicular to line $L$?\n",
    "What geometric object does this describe? Use the Geogebra notebook ... to help you.\n"
   ]
  },
  {
   "cell_type": "markdown",
   "metadata": {},
   "source": [
    "#### Conclusion: A point $A$ and a vector $\\vec{v}$ define a plane that contains $A$ and is perpendicular to $\\vec{v}$. \n",
    "\n",
    "This plane contains **all** lines through $A$ that are perpendicular to $\\vec{v}$. "
   ]
  },
  {
   "cell_type": "markdown",
   "metadata": {},
   "source": [
    "### Three points on the plane\n",
    "\n",
    "Choose three points $A$, $B$ and $C$. Make a triangle out of these three points. Now imagine 'stretching' this triangle by moving each point outwards, so that the original triangle remains where it is. \n",
    "\n",
    "Along what are you moving each point? Straight lines! \n",
    " ... Moving points along three straight lines - need only two to define the plane though!\n",
    " \n",
    " \n",
    "Geogebra applet link\n",
    "\n",
    "#### Food for thought: \n",
    "Do $3$ lines always lie in the same plane? If you happen to have three lines that *do* lie in the same plane, do you really need the equations of all three to work out the equation of the plane that are all in?"
   ]
  },
  {
   "cell_type": "markdown",
   "metadata": {},
   "source": [
    "### A point on the plane and two non-parallel vectors\n",
    "\n",
    "Take a point $A$ and two vectors $\\vec{v}$ and $\\vec{w}$ that are *not* parallel to each other. What geometric object(s) can you construct from them?\n",
    "\n",
    "You could construct two *non-parallel* lines through $A$. \n",
    "Or one line and a *non-parallel* vector...\n",
    "\n",
    "#### Food for thought: \n",
    "Why do the vectors need to be non-parallel?"
   ]
  },
  {
   "cell_type": "markdown",
   "metadata": {},
   "source": [
    "## Important conclusion: What *is* a plane? What about it always stays the same?\n",
    "Think about what a straight line is, and what about it is always the same, may help."
   ]
  },
  {
   "cell_type": "markdown",
   "metadata": {},
   "source": [
    "### Converting between vector and cartesian equation of a plane"
   ]
  },
  {
   "cell_type": "markdown",
   "metadata": {},
   "source": [
    "### Perpendicular distance from plane to origin, angle between plane and line..."
   ]
  }
 ],
 "metadata": {
  "kernelspec": {
   "display_name": "Python 3",
   "language": "python",
   "name": "python3"
  },
  "language_info": {
   "codemirror_mode": {
    "name": "ipython",
    "version": 3
   },
   "file_extension": ".py",
   "mimetype": "text/x-python",
   "name": "python",
   "nbconvert_exporter": "python",
   "pygments_lexer": "ipython3",
   "version": "3.5.2"
  }
 },
 "nbformat": 4,
 "nbformat_minor": 2
}
