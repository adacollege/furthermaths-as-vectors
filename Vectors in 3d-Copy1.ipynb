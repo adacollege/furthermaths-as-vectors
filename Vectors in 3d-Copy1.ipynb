{
 "cells": [
  {
   "cell_type": "markdown",
   "metadata": {
    "cell_style": "center"
   },
   "source": [
    "# VECTORS IN 3D\n",
    "\n",
    "These notes will also make use of the Geogebra workbook: [Vectors in 3D](https://ggbm.at/rtbpEThQ) "
   ]
  },
  {
   "cell_type": "markdown",
   "metadata": {},
   "source": [
    "## Introduction to vectors"
   ]
  },
  {
   "cell_type": "markdown",
   "metadata": {},
   "source": [
    "### i,j,k notation\n",
    "\n",
    "I have a vector $\\vec{v} = \\begin{pmatrix}\n",
    "  5 \\\\\n",
    "  3 \\\\\n",
    "  8\n",
    " \\end{pmatrix}$. I can write this vector in terms of three other unit vectors $\\vec{i}$ along the $x$-axis, $\\vec{j}$ along the $y$-axis and $\\vec{k}$ along the $z$-axis:\n",
    " \n",
    "$$\\vec{v} =  5\\vec{i}+3\\vec{j}+8\\vec{k}$$\n",
    " "
   ]
  },
  {
   "cell_type": "markdown",
   "metadata": {},
   "source": [
    "### The length of a vector in $2D$ and $3D$.\n",
    "\n",
    "What is the length of a $2D$ vector? "
   ]
  },
  {
   "cell_type": "markdown",
   "metadata": {},
   "source": [
    "![2d](./Length of 2D vector-Copy1.JPG)"
   ]
  },
  {
   "cell_type": "markdown",
   "metadata": {},
   "source": [
    "What about the length of a $3D$ vector?"
   ]
  },
  {
   "cell_type": "markdown",
   "metadata": {},
   "source": [
    "![3d](./Length of 3D vector-Copy1.JPG)"
   ]
  },
  {
   "cell_type": "markdown",
   "metadata": {},
   "source": [
    "### Unit vectors\n",
    "\n",
    "How can I write a vector of length $1$ in the same direction as $\\vec{v} = 4\\vec{i} - 3\\vec{j} + 2\\vec{k}$ ?\n",
    "\n",
    "What about writing a vector of length $5$ in the direction of the unit vector $\\frac{2}{7}\\vec{i}+\\frac{3}{7}\\vec{j}-\\frac{6}{7}\\vec{k}$?"
   ]
  },
  {
   "cell_type": "markdown",
   "metadata": {},
   "source": [
    "### Task 1:\n",
    "\n",
    "A quadrilateral made up of vertices $ABCD$. How can you show that the point $E$ lies on the line segment joining $A$ and $C$?\n",
    "\n",
    "\n",
    "### Task 2:\n",
    "\n",
    "A $3D$ shape made up of vertices $ABCDEFGH$. How can you show that the point $I$ lies on the line segment joining $A$ to $G$?\n",
    "\n",
    "What if I shift my prism by a vector $\\vec{v}= \\vec{i}+2\\vec{j}+\\vec{k}$?"
   ]
  },
  {
   "cell_type": "markdown",
   "metadata": {},
   "source": [
    "## Equations of lines\n",
    "\n",
    "How do we work out the equation of a line in $2D$?\n",
    "\n",
    "We need a direction and a point that we know is on the line. There are of course several ways to obtain this.\n",
    "\n",
    "The cartesian equation for a line in $2D$ is $y=mx+c$. How can we write this in vector form?"
   ]
  },
  {
   "cell_type": "markdown",
   "metadata": {},
   "source": [
    "$$\\vec{r}= \\vec{a}+ k\\vec{b}$$\n",
    "\n",
    "where $\\vec{r}$, $\\vec{a}$ and $\\vec{b}$ are vectors, and $k$ is a scalar. Vectors $\\vec{a}$ and $\\vec{b}$ are fixed; $\\vec{r}$ changes because $k$ can take any real value.\n",
    "\n",
    "To express the equation of a line in $3D$, we also need a point on the line and a direction vector.\n",
    "\n",
    "$$\\vec{r}= \\begin{pmatrix}\n",
    "  1 \\\\\n",
    "  2 \\\\\n",
    "  0\n",
    " \\end{pmatrix} + k\n",
    " \\begin{pmatrix}\n",
    "  2 \\\\\n",
    "  -4 \\\\\n",
    "  1\n",
    " \\end{pmatrix}$$\n",
    "\n",
    "#### Task 5:\n",
    "\n",
    "Can you write the $3D$ equation for a line in terms of coordinates $x$, $y$ and $z$?"
   ]
  },
  {
   "cell_type": "markdown",
   "metadata": {},
   "source": [
    "## The scalar product of two vectors\n"
   ]
  },
  {
   "cell_type": "markdown",
   "metadata": {},
   "source": [
    "### Resolved components of vectors\n"
   ]
  },
  {
   "cell_type": "markdown",
   "metadata": {},
   "source": [
    "Here are two vectors. They are separated by an angle $\\theta$. \n",
    "\n",
    "![dotprod1](./dotprod1.JPG)\n",
    "\n",
    "Suppose we make a right-angled triangle with $\\vec{u}$ as the hypotenuse. \n",
    "\n",
    "![dotprod2](./Dotproduct2.JPG) \n",
    "\n",
    "We find that the adjacent side to $\\theta$ is $u\\cos{\\theta}$. We can think of this as the 'part' of $\\vec{u}$ lying along the direction of $\\vec{v}$. \n",
    "\n",
    "A way of writing this mathematically is: \n",
    "\n",
    "$$\\vec{u}.\\vec{v} '=u\\cos{\\theta}$$ where $\\vec{v} '$ is a unit vector in the direction of $\\vec{v}$.\n",
    "\n",
    "We can use this to define the *scalar product* of two general vectors $\\vec{u}$ and $\\vec{v}$ as:\n",
    "\n",
    "$$\\vec{u}.\\vec{v} =u.v\\cos{\\theta}$$\n"
   ]
  },
  {
   "cell_type": "markdown",
   "metadata": {},
   "source": [
    "### Two different forms of the scalar product\n",
    "\n",
    "There is another way of writing the scalar product! Use the cosine rule to find how you can do this.\n",
    "\n",
    "\n",
    "\n",
    "#### Recall: \n",
    "\n",
    "For any triangle with sides $a$, $b$ and $c$, and opposite angles $A$, $B$ and $C$:\n",
    "\n",
    "$$c^{2} = b^{2} + a^{2} -2ba \\cos{C}$$\n",
    "\n",
    "### Task 3:\n",
    "\n",
    "Use the cosine rule to find another expression for the scalar product. "
   ]
  },
  {
   "cell_type": "markdown",
   "metadata": {},
   "source": [
    "### Consequences of the scalar product\n",
    "\n",
    "1. How can you tell if two vectors are perpendicular?\n",
    "2. How can you tell if two vectors are parallel or contra-parallel?\n",
    "\n",
    "### What is the scalar product useful for? \n",
    "\n",
    "#### Task 4: \n",
    "Use the scalar product to show the product of the gradients of two perpendicular lines in $2D$ is always $-1$."
   ]
  },
  {
   "cell_type": "markdown",
   "metadata": {},
   "source": [
    "### Task:\n",
    "\n",
    "[Vector projection](https://undergroundmathematics.org/combining-vectors/r7272) "
   ]
  },
  {
   "cell_type": "markdown",
   "metadata": {},
   "source": [
    "## Equations of planes\n",
    "\n",
    "There are three ways of finding the vector equation of plane."
   ]
  },
  {
   "cell_type": "markdown",
   "metadata": {},
   "source": [
    "### A point on the plane and a vector \n",
    "\n",
    "Let's go back to our vector equation of a line. Call this $L$. This means:\n",
    "\n",
    "$$L: \\vec{r}= \\begin{pmatrix}\n",
    "  1 \\\\\n",
    "  2 \\\\\n",
    "  0\n",
    " \\end{pmatrix} + k\n",
    " \\begin{pmatrix}\n",
    "  2 \\\\\n",
    "  -4 \\\\\n",
    "  1\n",
    " \\end{pmatrix}$$\n",
    "\n",
    "Can you work out the equation of a line through point $A$ that is perpendicular to $L$? Is this the only line through A that is perpendicular to $L$?\n",
    "Can you derive a general equation that describes *all* the lines through $A$ that are perpendicular to line $L$?\n",
    "What geometric object does this describe?"
   ]
  },
  {
   "cell_type": "markdown",
   "metadata": {},
   "source": [
    "#### Conclusion: A point $A$ and a vector $\\vec{v}$ define a plane that contains $A$ and is perpendicular to $\\vec{v}$. \n",
    "\n",
    "This plane contains **all** lines through $A$ that are perpendicular to $\\vec{v}$.\n",
    "\n",
    "*NB.* These are not the only lines it contains.\n",
    "\n",
    "So the equation of the plane that describes all the points on those lines can be found by:\n",
    "\n",
    "$$\\vec{r}.\\vec{n}=\\vec{a}.\\vec{n}+k\\vec{b}.\\vec{n}$$\n",
    "\n",
    "where $\\vec{n}$ is the vector perpendicular to the plane; in the above example this was \n",
    "$\\begin{pmatrix}\n",
    "  2 \\\\\n",
    "  -4 \\\\\n",
    "  1\n",
    " \\end{pmatrix}$.\n",
    " \n",
    "This means the equation of the plane perpendicular to \n",
    "\n",
    "$$L: \\vec{r}= \\begin{pmatrix}\n",
    "  1 \\\\\n",
    "  2 \\\\\n",
    "  0\n",
    " \\end{pmatrix} + k\n",
    " \\begin{pmatrix}\n",
    "  2 \\\\\n",
    "  -4 \\\\\n",
    "  1\n",
    " \\end{pmatrix}$$ containing the point $A=(1, 2, 0)$ can be found by taking the dot product of any line in the plane, through $A$.\n",
    "\n",
    "This line would have equation \n",
    "$L': \\vec{r} = \\begin{pmatrix}\n",
    "  1 \\\\\n",
    "  2 \\\\\n",
    "  0\n",
    " \\end{pmatrix} + k\\vec{b}$\n",
    " for some vector $\\vec{b}$ contained in plane. If we dot product with $\\vec{n}= \\begin{pmatrix}\n",
    "  2 \\\\\n",
    "  -4 \\\\\n",
    "  1\n",
    " \\end{pmatrix}$, we will get\n",
    " $$\\vec{r}.\\vec{n} = \\begin{pmatrix}\n",
    "  1 \\\\\n",
    "  2 \\\\\n",
    "  0\n",
    " \\end{pmatrix}. \\begin{pmatrix}\n",
    "  2 \\\\\n",
    "  -4 \\\\\n",
    "  1\n",
    " \\end{pmatrix}$$ <p> $$\\vec{r}.\\begin{pmatrix}\n",
    "  2 \\\\\n",
    "  -4 \\\\\n",
    "  1\n",
    " \\end{pmatrix}= - 6$$"
   ]
  },
  {
   "cell_type": "markdown",
   "metadata": {},
   "source": [
    "#### Question: \n",
    "How do we write this in cartesian form?"
   ]
  },
  {
   "cell_type": "markdown",
   "metadata": {},
   "source": [
    "#### Task: \n",
    "\n",
    "Find the equation of a line through the origin, that is perpendicular to your plane. \n",
    "Where does your line intersect the plane? Comment on the distance between this point and the origin.\n",
    "\n"
   ]
  },
  {
   "cell_type": "markdown",
   "metadata": {},
   "source": [
    "### Three points on the plane\n",
    "\n",
    "Choose three points $A$, $B$ and $C$. Make a triangle out of these three points. Now imagine 'stretching' this triangle by moving each point outwards, so that the original triangle remains where it is. \n",
    "\n",
    "Along what are you moving each point? Straight lines! \n",
    "\n",
    "#### Question: \n",
    "Do $3$ lines always lie in the same plane? If you happen to have three lines that *do* lie in the same plane, do you really need the equations of all three to work out the equation of the plane that are all in?"
   ]
  },
  {
   "cell_type": "markdown",
   "metadata": {},
   "source": [
    "### A point on the plane and two non-parallel vectors\n",
    "\n",
    "Take a point $A$ and two vectors $\\vec{v}$ and $\\vec{w}$ that are *not* parallel to each other. What geometric object(s) can you construct from them?\n",
    "\n",
    "You could construct two *non-parallel* lines through $A$. \n",
    "Or one line and a *non-parallel* vector. Or find three points on the plane.\n",
    "\n",
    "#### Question: \n",
    "Why do the vectors need to be non-parallel?"
   ]
  },
  {
   "cell_type": "markdown",
   "metadata": {},
   "source": [
    "## Important conclusion: What *is* a plane? What about it always stays the same?\n",
    "Think about what a straight line is, and what about it is always the same, may help."
   ]
  },
  {
   "cell_type": "markdown",
   "metadata": {},
   "source": [
    "### Tasks:\n",
    "<p><p>\n",
    "[The equation of a plane](https://undergroundmathematics.org/combining-vectors/r5089) \n",
    "<p><p>   \n",
    "[Angles between planes](https://undergroundmathematics.org/combining-vectors/r6449) "
   ]
  },
  {
   "cell_type": "code",
   "execution_count": null,
   "metadata": {},
   "outputs": [],
   "source": []
  }
 ],
 "metadata": {
  "kernelspec": {
   "display_name": "Python 3",
   "language": "python",
   "name": "python3"
  },
  "language_info": {
   "codemirror_mode": {
    "name": "ipython",
    "version": 3
   },
   "file_extension": ".py",
   "mimetype": "text/x-python",
   "name": "python",
   "nbconvert_exporter": "python",
   "pygments_lexer": "ipython3",
   "version": "3.5.2"
  }
 },
 "nbformat": 4,
 "nbformat_minor": 2
}
